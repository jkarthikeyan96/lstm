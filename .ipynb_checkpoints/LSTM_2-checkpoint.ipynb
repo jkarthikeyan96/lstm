{
 "cells": [
  {
   "cell_type": "code",
   "execution_count": 2,
   "metadata": {},
   "outputs": [],
   "source": [
    "import os\n",
    "import glob\n",
    "import numpy as np\n",
    "import pandas as pd\n",
    "import tensorflow as tf\n",
    "from tensorflow import keras\n",
    "from tensorflow.python.keras import backend as k\n",
    "from tensorflow.keras.models import Sequential\n",
    "import keras.layers as layers\n",
    "from keras.layers import InputLayer\n",
    "import matplotlib.pyplot as plt\n",
    "from sklearn.metrics import mean_squared_error as mse\n",
    "\n",
    "from sklearn.model_selection import train_test_split\n",
    "\n",
    "from keras.layers import Input, Dense, LSTM, MaxPooling1D, Conv1D\n",
    "from keras.models import Model\n",
    "\n"
   ]
  },
  {
   "cell_type": "code",
   "execution_count": 3,
   "metadata": {},
   "outputs": [
    {
     "name": "stdout",
     "output_type": "stream",
     "text": [
      "hello\n"
     ]
    }
   ],
   "source": [
    "print(\"hello\")"
   ]
  },
  {
   "cell_type": "code",
   "execution_count": 62,
   "metadata": {},
   "outputs": [
    {
     "name": "stdout",
     "output_type": "stream",
     "text": [
      "(100, 2)\n"
     ]
    },
    {
     "data": {
      "text/html": [
       "<div>\n",
       "<style scoped>\n",
       "    .dataframe tbody tr th:only-of-type {\n",
       "        vertical-align: middle;\n",
       "    }\n",
       "\n",
       "    .dataframe tbody tr th {\n",
       "        vertical-align: top;\n",
       "    }\n",
       "\n",
       "    .dataframe thead th {\n",
       "        text-align: right;\n",
       "    }\n",
       "</style>\n",
       "<table border=\"1\" class=\"dataframe\">\n",
       "  <thead>\n",
       "    <tr style=\"text-align: right;\">\n",
       "      <th></th>\n",
       "      <th>solar_exposure</th>\n",
       "      <th>Mintemp</th>\n",
       "    </tr>\n",
       "  </thead>\n",
       "  <tbody>\n",
       "    <tr>\n",
       "      <th>0</th>\n",
       "      <td>6.500005</td>\n",
       "      <td>25.2</td>\n",
       "    </tr>\n",
       "    <tr>\n",
       "      <th>1</th>\n",
       "      <td>6.444450</td>\n",
       "      <td>24.8</td>\n",
       "    </tr>\n",
       "    <tr>\n",
       "      <th>2</th>\n",
       "      <td>3.250003</td>\n",
       "      <td>24.6</td>\n",
       "    </tr>\n",
       "    <tr>\n",
       "      <th>3</th>\n",
       "      <td>6.888894</td>\n",
       "      <td>21.1</td>\n",
       "    </tr>\n",
       "    <tr>\n",
       "      <th>4</th>\n",
       "      <td>3.027780</td>\n",
       "      <td>21.8</td>\n",
       "    </tr>\n",
       "  </tbody>\n",
       "</table>\n",
       "</div>"
      ],
      "text/plain": [
       "   solar_exposure  Mintemp\n",
       "0        6.500005     25.2\n",
       "1        6.444450     24.8\n",
       "2        3.250003     24.6\n",
       "3        6.888894     21.1\n",
       "4        3.027780     21.8"
      ]
     },
     "execution_count": 62,
     "metadata": {},
     "output_type": "execute_result"
    }
   ],
   "source": [
    "df = pd.read_csv(r'D:\\Data_592\\Climate_D.csv',nrows=100)\n",
    "print(df.shape)\n",
    "df.head()"
   ]
  },
  {
   "cell_type": "code",
   "execution_count": 103,
   "metadata": {},
   "outputs": [],
   "source": [
    "def get_model():\n",
    "    inputs = Input(shape=(1, 1))\n",
    "    x = layers.Conv1D(filters=2, kernel_size=3, activation='relu', padding='same')(inputs)\n",
    "    x = layers.MaxPool1D(pool_size=1)(x)\n",
    "    x = layers.Conv1D(filters=2, kernel_size=1, activation='relu', padding='same')(x)\n",
    "    x = layers.MaxPool1D(pool_size=1)(x)\n",
    "    x = layers.Conv1D(filters=1, kernel_size=3, activation='relu', padding='same')(x)\n",
    "#     x = layers.Flatten()(x)\n",
    "#     x = layers.Dense(3, activation='relu')(x)\n",
    "    outputs = layers.Dense(1, activation='softmax')(x)\n",
    "    outputs = x\n",
    "    print(type(x), type(outputs))\n",
    "     \n",
    "    model_cnn = keras.Model(inputs=inputs, outputs=outputs, name='fashion_mnist_cnn_model')\n",
    "    \n",
    "    return model_cnn"
   ]
  },
  {
   "cell_type": "code",
   "execution_count": 6,
   "metadata": {},
   "outputs": [],
   "source": [
    "y = df.solar_exposure\n",
    "X = df.Mintemp"
   ]
  },
  {
   "cell_type": "code",
   "execution_count": 38,
   "metadata": {
    "scrolled": true
   },
   "outputs": [
    {
     "data": {
      "text/plain": [
       "(100,)"
      ]
     },
     "execution_count": 38,
     "metadata": {},
     "output_type": "execute_result"
    }
   ],
   "source": [
    "\n",
    "X_train, X_test, y_train, y_test = train_test_split(X, y,test_size=0.3, shuffle=False)\n",
    "X_train, X_val, y_train, y_val = train_test_split(X_train, y_train,test_size=0.1, shuffle=False)\n",
    "# print(\"\\nX_train:\\n\")\n",
    "# print(X_train.head())\n",
    "# print(y_train.head())\n",
    "# print(y_train.shape)\n",
    "\n",
    "# print(\"\\nX_test:\\n\")\n",
    "# print(X_test.head())\n",
    "# print(X_test.shape)"
   ]
  },
  {
   "cell_type": "code",
   "execution_count": 54,
   "metadata": {},
   "outputs": [
    {
     "name": "stdout",
     "output_type": "stream",
     "text": [
      "Model: \"model_8\"\n",
      "_________________________________________________________________\n",
      "Layer (type)                 Output Shape              Param #   \n",
      "=================================================================\n",
      "input_10 (InputLayer)        [(None, 100, 1)]          0         \n",
      "_________________________________________________________________\n",
      "conv1d_8 (Conv1D)            (None, 100, 32)           288       \n",
      "_________________________________________________________________\n",
      "lstm_8 (LSTM)                (None, 100, 32)           8320      \n",
      "_________________________________________________________________\n",
      "dense_8 (Dense)              (None, 100, 1)            33        \n",
      "=================================================================\n",
      "Total params: 8,641\n",
      "Trainable params: 8,641\n",
      "Non-trainable params: 0\n",
      "_________________________________________________________________\n"
     ]
    }
   ],
   "source": [
    "input_layer = Input(shape=(X.shape[0], 1))\n",
    "conv1 = Conv1D(filters=32,\n",
    "               kernel_size=8,\n",
    "               strides=1,\n",
    "               activation='relu',\n",
    "               padding='same')(input_layer)\n",
    "lstm1 = LSTM(32, return_sequences=True)(conv1)\n",
    "output_layer = Dense(1, activation='sigmoid')(lstm1)\n",
    "model = Model(inputs=input_layer, outputs=output_layer)\n",
    "\n",
    "model.summary()"
   ]
  },
  {
   "cell_type": "code",
   "execution_count": 53,
   "metadata": {},
   "outputs": [
    {
     "data": {
      "text/plain": [
       "((63,), (63,))"
      ]
     },
     "execution_count": 53,
     "metadata": {},
     "output_type": "execute_result"
    }
   ],
   "source": [
    "y_train.shape, X_train.shape"
   ]
  },
  {
   "cell_type": "code",
   "execution_count": 60,
   "metadata": {},
   "outputs": [],
   "source": [
    "model.compile(optimizer=tf.keras.optimizers.Adam(learning_rate=1e-3),\n",
    "              loss='mse',\n",
    "              metrics=[tf.keras.metrics.Accuracy(\n",
    "    name='accuracy', dtype=None\n",
    "),tf.keras.metrics.FalseNegatives()])"
   ]
  },
  {
   "cell_type": "code",
   "execution_count": 64,
   "metadata": {},
   "outputs": [
    {
     "name": "stdout",
     "output_type": "stream",
     "text": [
      "Epoch 1/20\n",
      "2/2 [==============================] - 0s 79ms/step - loss: 26.0614 - accuracy: 0.0000e+00 - false_negatives_4: 0.0000e+00 - val_loss: 26.4297 - val_accuracy: 0.0000e+00 - val_false_negatives_4: 0.0000e+00\n",
      "Epoch 2/20\n",
      "2/2 [==============================] - 0s 283ms/step - loss: 26.0614 - accuracy: 0.0000e+00 - false_negatives_4: 0.0000e+00 - val_loss: 26.4297 - val_accuracy: 0.0000e+00 - val_false_negatives_4: 0.0000e+00\n",
      "Epoch 3/20\n",
      "2/2 [==============================] - 0s 39ms/step - loss: 26.0614 - accuracy: 0.0000e+00 - false_negatives_4: 0.0000e+00 - val_loss: 26.4297 - val_accuracy: 0.0000e+00 - val_false_negatives_4: 0.0000e+00\n",
      "Epoch 4/20\n",
      "2/2 [==============================] - 0s 37ms/step - loss: 26.0614 - accuracy: 0.0000e+00 - false_negatives_4: 0.0000e+00 - val_loss: 26.4297 - val_accuracy: 0.0000e+00 - val_false_negatives_4: 0.0000e+00\n",
      "Epoch 5/20\n",
      "2/2 [==============================] - 0s 39ms/step - loss: 26.0614 - accuracy: 0.0000e+00 - false_negatives_4: 0.0000e+00 - val_loss: 26.4297 - val_accuracy: 0.0000e+00 - val_false_negatives_4: 0.0000e+00\n",
      "Epoch 6/20\n",
      "2/2 [==============================] - 0s 35ms/step - loss: 26.0614 - accuracy: 0.0000e+00 - false_negatives_4: 0.0000e+00 - val_loss: 26.4297 - val_accuracy: 0.0000e+00 - val_false_negatives_4: 0.0000e+00\n",
      "Epoch 7/20\n",
      "2/2 [==============================] - 0s 35ms/step - loss: 26.0614 - accuracy: 0.0000e+00 - false_negatives_4: 0.0000e+00 - val_loss: 26.4297 - val_accuracy: 0.0000e+00 - val_false_negatives_4: 0.0000e+00\n",
      "Epoch 8/20\n",
      "2/2 [==============================] - 0s 38ms/step - loss: 26.0614 - accuracy: 0.0000e+00 - false_negatives_4: 0.0000e+00 - val_loss: 26.4297 - val_accuracy: 0.0000e+00 - val_false_negatives_4: 0.0000e+00\n",
      "Epoch 9/20\n",
      "2/2 [==============================] - 0s 38ms/step - loss: 26.0614 - accuracy: 0.0000e+00 - false_negatives_4: 0.0000e+00 - val_loss: 26.4297 - val_accuracy: 0.0000e+00 - val_false_negatives_4: 0.0000e+00\n",
      "Epoch 10/20\n",
      "2/2 [==============================] - 0s 41ms/step - loss: 26.0614 - accuracy: 0.0000e+00 - false_negatives_4: 0.0000e+00 - val_loss: 26.4297 - val_accuracy: 0.0000e+00 - val_false_negatives_4: 0.0000e+00\n",
      "Epoch 11/20\n",
      "2/2 [==============================] - 0s 34ms/step - loss: 26.0614 - accuracy: 0.0000e+00 - false_negatives_4: 0.0000e+00 - val_loss: 26.4297 - val_accuracy: 0.0000e+00 - val_false_negatives_4: 0.0000e+00\n",
      "Epoch 12/20\n",
      "2/2 [==============================] - 0s 37ms/step - loss: 26.0614 - accuracy: 0.0000e+00 - false_negatives_4: 0.0000e+00 - val_loss: 26.4297 - val_accuracy: 0.0000e+00 - val_false_negatives_4: 0.0000e+00\n",
      "Epoch 13/20\n",
      "2/2 [==============================] - 0s 36ms/step - loss: 26.0614 - accuracy: 0.0000e+00 - false_negatives_4: 0.0000e+00 - val_loss: 26.4297 - val_accuracy: 0.0000e+00 - val_false_negatives_4: 0.0000e+00\n",
      "Epoch 14/20\n",
      "2/2 [==============================] - 0s 39ms/step - loss: 26.0614 - accuracy: 0.0000e+00 - false_negatives_4: 0.0000e+00 - val_loss: 26.4297 - val_accuracy: 0.0000e+00 - val_false_negatives_4: 0.0000e+00\n",
      "Epoch 15/20\n",
      "2/2 [==============================] - 0s 34ms/step - loss: 26.0614 - accuracy: 0.0000e+00 - false_negatives_4: 0.0000e+00 - val_loss: 26.4297 - val_accuracy: 0.0000e+00 - val_false_negatives_4: 0.0000e+00\n",
      "Epoch 16/20\n",
      "2/2 [==============================] - 0s 37ms/step - loss: 26.0614 - accuracy: 0.0000e+00 - false_negatives_4: 0.0000e+00 - val_loss: 26.4297 - val_accuracy: 0.0000e+00 - val_false_negatives_4: 0.0000e+00\n",
      "Epoch 17/20\n",
      "2/2 [==============================] - 0s 41ms/step - loss: 26.0614 - accuracy: 0.0000e+00 - false_negatives_4: 0.0000e+00 - val_loss: 26.4297 - val_accuracy: 0.0000e+00 - val_false_negatives_4: 0.0000e+00\n",
      "Epoch 18/20\n",
      "2/2 [==============================] - 0s 37ms/step - loss: 26.0614 - accuracy: 0.0000e+00 - false_negatives_4: 0.0000e+00 - val_loss: 26.4297 - val_accuracy: 0.0000e+00 - val_false_negatives_4: 0.0000e+00\n",
      "Epoch 19/20\n",
      "2/2 [==============================] - 0s 40ms/step - loss: 26.0614 - accuracy: 0.0000e+00 - false_negatives_4: 0.0000e+00 - val_loss: 26.4297 - val_accuracy: 0.0000e+00 - val_false_negatives_4: 0.0000e+00\n",
      "Epoch 20/20\n",
      "2/2 [==============================] - 0s 40ms/step - loss: 26.0614 - accuracy: 0.0000e+00 - false_negatives_4: 0.0000e+00 - val_loss: 26.4297 - val_accuracy: 0.0000e+00 - val_false_negatives_4: 0.0000e+00\n"
     ]
    },
    {
     "data": {
      "text/plain": [
       "<tensorflow.python.keras.callbacks.History at 0x2910e7ea520>"
      ]
     },
     "execution_count": 64,
     "metadata": {},
     "output_type": "execute_result"
    }
   ],
   "source": [
    "model.fit(X_train, y_train, validation_data=(X_val,y_val), epochs=20)"
   ]
  },
  {
   "cell_type": "code",
   "execution_count": 104,
   "metadata": {},
   "outputs": [
    {
     "name": "stdout",
     "output_type": "stream",
     "text": [
      "<class 'tensorflow.python.keras.engine.keras_tensor.KerasTensor'> <class 'tensorflow.python.keras.engine.keras_tensor.KerasTensor'>\n",
      "Model: \"fashion_mnist_cnn_model\"\n",
      "_________________________________________________________________\n",
      "Layer (type)                 Output Shape              Param #   \n",
      "=================================================================\n",
      "input_29 (InputLayer)        [(None, 1, 1)]            0         \n",
      "_________________________________________________________________\n",
      "conv1d_54 (Conv1D)           (None, 1, 2)              8         \n",
      "_________________________________________________________________\n",
      "max_pooling1d_30 (MaxPooling (None, 1, 2)              0         \n",
      "_________________________________________________________________\n",
      "conv1d_55 (Conv1D)           (None, 1, 2)              6         \n",
      "_________________________________________________________________\n",
      "max_pooling1d_31 (MaxPooling (None, 1, 2)              0         \n",
      "_________________________________________________________________\n",
      "conv1d_56 (Conv1D)           (None, 1, 1)              7         \n",
      "=================================================================\n",
      "Total params: 21\n",
      "Trainable params: 21\n",
      "Non-trainable params: 0\n",
      "_________________________________________________________________\n",
      "None\n"
     ]
    },
    {
     "ename": "InvalidArgumentError",
     "evalue": " Received a label value of 7 which is outside the valid range of [0, 1).  Label values: 4 7\n\t [[node sparse_categorical_crossentropy/SparseSoftmaxCrossEntropyWithLogits/SparseSoftmaxCrossEntropyWithLogits (defined at <ipython-input-104-5dfb15bf60a1>:6) ]] [Op:__inference_train_function_38546]\n\nFunction call stack:\ntrain_function\n",
     "output_type": "error",
     "traceback": [
      "\u001b[1;31m---------------------------------------------------------------------------\u001b[0m",
      "\u001b[1;31mInvalidArgumentError\u001b[0m                      Traceback (most recent call last)",
      "\u001b[1;32m<ipython-input-104-5dfb15bf60a1>\u001b[0m in \u001b[0;36m<module>\u001b[1;34m\u001b[0m\n\u001b[0;32m      4\u001b[0m                   \u001b[0moptimizer\u001b[0m\u001b[1;33m=\u001b[0m\u001b[0mkeras\u001b[0m\u001b[1;33m.\u001b[0m\u001b[0moptimizers\u001b[0m\u001b[1;33m.\u001b[0m\u001b[0mAdam\u001b[0m\u001b[1;33m(\u001b[0m\u001b[1;33m)\u001b[0m\u001b[1;33m,\u001b[0m\u001b[1;33m\u001b[0m\u001b[1;33m\u001b[0m\u001b[0m\n\u001b[0;32m      5\u001b[0m                   metrics=['accuracy'])\n\u001b[1;32m----> 6\u001b[1;33m history = model_cnn.fit(X_train, y_train,\n\u001b[0m\u001b[0;32m      7\u001b[0m                         \u001b[0mbatch_size\u001b[0m\u001b[1;33m=\u001b[0m\u001b[1;36m2\u001b[0m\u001b[1;33m,\u001b[0m\u001b[1;33m\u001b[0m\u001b[1;33m\u001b[0m\u001b[0m\n\u001b[0;32m      8\u001b[0m                         \u001b[0mepochs\u001b[0m\u001b[1;33m=\u001b[0m\u001b[1;36m2\u001b[0m\u001b[1;33m,\u001b[0m\u001b[1;33m\u001b[0m\u001b[1;33m\u001b[0m\u001b[0m\n",
      "\u001b[1;32m~\\anaconda3\\lib\\site-packages\\tensorflow\\python\\keras\\engine\\training.py\u001b[0m in \u001b[0;36mfit\u001b[1;34m(self, x, y, batch_size, epochs, verbose, callbacks, validation_split, validation_data, shuffle, class_weight, sample_weight, initial_epoch, steps_per_epoch, validation_steps, validation_batch_size, validation_freq, max_queue_size, workers, use_multiprocessing)\u001b[0m\n\u001b[0;32m   1098\u001b[0m                 _r=1):\n\u001b[0;32m   1099\u001b[0m               \u001b[0mcallbacks\u001b[0m\u001b[1;33m.\u001b[0m\u001b[0mon_train_batch_begin\u001b[0m\u001b[1;33m(\u001b[0m\u001b[0mstep\u001b[0m\u001b[1;33m)\u001b[0m\u001b[1;33m\u001b[0m\u001b[1;33m\u001b[0m\u001b[0m\n\u001b[1;32m-> 1100\u001b[1;33m               \u001b[0mtmp_logs\u001b[0m \u001b[1;33m=\u001b[0m \u001b[0mself\u001b[0m\u001b[1;33m.\u001b[0m\u001b[0mtrain_function\u001b[0m\u001b[1;33m(\u001b[0m\u001b[0miterator\u001b[0m\u001b[1;33m)\u001b[0m\u001b[1;33m\u001b[0m\u001b[1;33m\u001b[0m\u001b[0m\n\u001b[0m\u001b[0;32m   1101\u001b[0m               \u001b[1;32mif\u001b[0m \u001b[0mdata_handler\u001b[0m\u001b[1;33m.\u001b[0m\u001b[0mshould_sync\u001b[0m\u001b[1;33m:\u001b[0m\u001b[1;33m\u001b[0m\u001b[1;33m\u001b[0m\u001b[0m\n\u001b[0;32m   1102\u001b[0m                 \u001b[0mcontext\u001b[0m\u001b[1;33m.\u001b[0m\u001b[0masync_wait\u001b[0m\u001b[1;33m(\u001b[0m\u001b[1;33m)\u001b[0m\u001b[1;33m\u001b[0m\u001b[1;33m\u001b[0m\u001b[0m\n",
      "\u001b[1;32m~\\anaconda3\\lib\\site-packages\\tensorflow\\python\\eager\\def_function.py\u001b[0m in \u001b[0;36m__call__\u001b[1;34m(self, *args, **kwds)\u001b[0m\n\u001b[0;32m    826\u001b[0m     \u001b[0mtracing_count\u001b[0m \u001b[1;33m=\u001b[0m \u001b[0mself\u001b[0m\u001b[1;33m.\u001b[0m\u001b[0mexperimental_get_tracing_count\u001b[0m\u001b[1;33m(\u001b[0m\u001b[1;33m)\u001b[0m\u001b[1;33m\u001b[0m\u001b[1;33m\u001b[0m\u001b[0m\n\u001b[0;32m    827\u001b[0m     \u001b[1;32mwith\u001b[0m \u001b[0mtrace\u001b[0m\u001b[1;33m.\u001b[0m\u001b[0mTrace\u001b[0m\u001b[1;33m(\u001b[0m\u001b[0mself\u001b[0m\u001b[1;33m.\u001b[0m\u001b[0m_name\u001b[0m\u001b[1;33m)\u001b[0m \u001b[1;32mas\u001b[0m \u001b[0mtm\u001b[0m\u001b[1;33m:\u001b[0m\u001b[1;33m\u001b[0m\u001b[1;33m\u001b[0m\u001b[0m\n\u001b[1;32m--> 828\u001b[1;33m       \u001b[0mresult\u001b[0m \u001b[1;33m=\u001b[0m \u001b[0mself\u001b[0m\u001b[1;33m.\u001b[0m\u001b[0m_call\u001b[0m\u001b[1;33m(\u001b[0m\u001b[1;33m*\u001b[0m\u001b[0margs\u001b[0m\u001b[1;33m,\u001b[0m \u001b[1;33m**\u001b[0m\u001b[0mkwds\u001b[0m\u001b[1;33m)\u001b[0m\u001b[1;33m\u001b[0m\u001b[1;33m\u001b[0m\u001b[0m\n\u001b[0m\u001b[0;32m    829\u001b[0m       \u001b[0mcompiler\u001b[0m \u001b[1;33m=\u001b[0m \u001b[1;34m\"xla\"\u001b[0m \u001b[1;32mif\u001b[0m \u001b[0mself\u001b[0m\u001b[1;33m.\u001b[0m\u001b[0m_experimental_compile\u001b[0m \u001b[1;32melse\u001b[0m \u001b[1;34m\"nonXla\"\u001b[0m\u001b[1;33m\u001b[0m\u001b[1;33m\u001b[0m\u001b[0m\n\u001b[0;32m    830\u001b[0m       \u001b[0mnew_tracing_count\u001b[0m \u001b[1;33m=\u001b[0m \u001b[0mself\u001b[0m\u001b[1;33m.\u001b[0m\u001b[0mexperimental_get_tracing_count\u001b[0m\u001b[1;33m(\u001b[0m\u001b[1;33m)\u001b[0m\u001b[1;33m\u001b[0m\u001b[1;33m\u001b[0m\u001b[0m\n",
      "\u001b[1;32m~\\anaconda3\\lib\\site-packages\\tensorflow\\python\\eager\\def_function.py\u001b[0m in \u001b[0;36m_call\u001b[1;34m(self, *args, **kwds)\u001b[0m\n\u001b[0;32m    886\u001b[0m         \u001b[1;31m# Lifting succeeded, so variables are initialized and we can run the\u001b[0m\u001b[1;33m\u001b[0m\u001b[1;33m\u001b[0m\u001b[1;33m\u001b[0m\u001b[0m\n\u001b[0;32m    887\u001b[0m         \u001b[1;31m# stateless function.\u001b[0m\u001b[1;33m\u001b[0m\u001b[1;33m\u001b[0m\u001b[1;33m\u001b[0m\u001b[0m\n\u001b[1;32m--> 888\u001b[1;33m         \u001b[1;32mreturn\u001b[0m \u001b[0mself\u001b[0m\u001b[1;33m.\u001b[0m\u001b[0m_stateless_fn\u001b[0m\u001b[1;33m(\u001b[0m\u001b[1;33m*\u001b[0m\u001b[0margs\u001b[0m\u001b[1;33m,\u001b[0m \u001b[1;33m**\u001b[0m\u001b[0mkwds\u001b[0m\u001b[1;33m)\u001b[0m\u001b[1;33m\u001b[0m\u001b[1;33m\u001b[0m\u001b[0m\n\u001b[0m\u001b[0;32m    889\u001b[0m     \u001b[1;32melse\u001b[0m\u001b[1;33m:\u001b[0m\u001b[1;33m\u001b[0m\u001b[1;33m\u001b[0m\u001b[0m\n\u001b[0;32m    890\u001b[0m       \u001b[0m_\u001b[0m\u001b[1;33m,\u001b[0m \u001b[0m_\u001b[0m\u001b[1;33m,\u001b[0m \u001b[0m_\u001b[0m\u001b[1;33m,\u001b[0m \u001b[0mfiltered_flat_args\u001b[0m \u001b[1;33m=\u001b[0m\u001b[0;31m \u001b[0m\u001b[0;31m\\\u001b[0m\u001b[1;33m\u001b[0m\u001b[1;33m\u001b[0m\u001b[0m\n",
      "\u001b[1;32m~\\anaconda3\\lib\\site-packages\\tensorflow\\python\\eager\\function.py\u001b[0m in \u001b[0;36m__call__\u001b[1;34m(self, *args, **kwargs)\u001b[0m\n\u001b[0;32m   2940\u001b[0m       (graph_function,\n\u001b[0;32m   2941\u001b[0m        filtered_flat_args) = self._maybe_define_function(args, kwargs)\n\u001b[1;32m-> 2942\u001b[1;33m     return graph_function._call_flat(\n\u001b[0m\u001b[0;32m   2943\u001b[0m         filtered_flat_args, captured_inputs=graph_function.captured_inputs)  # pylint: disable=protected-access\n\u001b[0;32m   2944\u001b[0m \u001b[1;33m\u001b[0m\u001b[0m\n",
      "\u001b[1;32m~\\anaconda3\\lib\\site-packages\\tensorflow\\python\\eager\\function.py\u001b[0m in \u001b[0;36m_call_flat\u001b[1;34m(self, args, captured_inputs, cancellation_manager)\u001b[0m\n\u001b[0;32m   1916\u001b[0m         and executing_eagerly):\n\u001b[0;32m   1917\u001b[0m       \u001b[1;31m# No tape is watching; skip to running the function.\u001b[0m\u001b[1;33m\u001b[0m\u001b[1;33m\u001b[0m\u001b[1;33m\u001b[0m\u001b[0m\n\u001b[1;32m-> 1918\u001b[1;33m       return self._build_call_outputs(self._inference_function.call(\n\u001b[0m\u001b[0;32m   1919\u001b[0m           ctx, args, cancellation_manager=cancellation_manager))\n\u001b[0;32m   1920\u001b[0m     forward_backward = self._select_forward_and_backward_functions(\n",
      "\u001b[1;32m~\\anaconda3\\lib\\site-packages\\tensorflow\\python\\eager\\function.py\u001b[0m in \u001b[0;36mcall\u001b[1;34m(self, ctx, args, cancellation_manager)\u001b[0m\n\u001b[0;32m    553\u001b[0m       \u001b[1;32mwith\u001b[0m \u001b[0m_InterpolateFunctionError\u001b[0m\u001b[1;33m(\u001b[0m\u001b[0mself\u001b[0m\u001b[1;33m)\u001b[0m\u001b[1;33m:\u001b[0m\u001b[1;33m\u001b[0m\u001b[1;33m\u001b[0m\u001b[0m\n\u001b[0;32m    554\u001b[0m         \u001b[1;32mif\u001b[0m \u001b[0mcancellation_manager\u001b[0m \u001b[1;32mis\u001b[0m \u001b[1;32mNone\u001b[0m\u001b[1;33m:\u001b[0m\u001b[1;33m\u001b[0m\u001b[1;33m\u001b[0m\u001b[0m\n\u001b[1;32m--> 555\u001b[1;33m           outputs = execute.execute(\n\u001b[0m\u001b[0;32m    556\u001b[0m               \u001b[0mstr\u001b[0m\u001b[1;33m(\u001b[0m\u001b[0mself\u001b[0m\u001b[1;33m.\u001b[0m\u001b[0msignature\u001b[0m\u001b[1;33m.\u001b[0m\u001b[0mname\u001b[0m\u001b[1;33m)\u001b[0m\u001b[1;33m,\u001b[0m\u001b[1;33m\u001b[0m\u001b[1;33m\u001b[0m\u001b[0m\n\u001b[0;32m    557\u001b[0m               \u001b[0mnum_outputs\u001b[0m\u001b[1;33m=\u001b[0m\u001b[0mself\u001b[0m\u001b[1;33m.\u001b[0m\u001b[0m_num_outputs\u001b[0m\u001b[1;33m,\u001b[0m\u001b[1;33m\u001b[0m\u001b[1;33m\u001b[0m\u001b[0m\n",
      "\u001b[1;32m~\\anaconda3\\lib\\site-packages\\tensorflow\\python\\eager\\execute.py\u001b[0m in \u001b[0;36mquick_execute\u001b[1;34m(op_name, num_outputs, inputs, attrs, ctx, name)\u001b[0m\n\u001b[0;32m     57\u001b[0m   \u001b[1;32mtry\u001b[0m\u001b[1;33m:\u001b[0m\u001b[1;33m\u001b[0m\u001b[1;33m\u001b[0m\u001b[0m\n\u001b[0;32m     58\u001b[0m     \u001b[0mctx\u001b[0m\u001b[1;33m.\u001b[0m\u001b[0mensure_initialized\u001b[0m\u001b[1;33m(\u001b[0m\u001b[1;33m)\u001b[0m\u001b[1;33m\u001b[0m\u001b[1;33m\u001b[0m\u001b[0m\n\u001b[1;32m---> 59\u001b[1;33m     tensors = pywrap_tfe.TFE_Py_Execute(ctx._handle, device_name, op_name,\n\u001b[0m\u001b[0;32m     60\u001b[0m                                         inputs, attrs, num_outputs)\n\u001b[0;32m     61\u001b[0m   \u001b[1;32mexcept\u001b[0m \u001b[0mcore\u001b[0m\u001b[1;33m.\u001b[0m\u001b[0m_NotOkStatusException\u001b[0m \u001b[1;32mas\u001b[0m \u001b[0me\u001b[0m\u001b[1;33m:\u001b[0m\u001b[1;33m\u001b[0m\u001b[1;33m\u001b[0m\u001b[0m\n",
      "\u001b[1;31mInvalidArgumentError\u001b[0m:  Received a label value of 7 which is outside the valid range of [0, 1).  Label values: 4 7\n\t [[node sparse_categorical_crossentropy/SparseSoftmaxCrossEntropyWithLogits/SparseSoftmaxCrossEntropyWithLogits (defined at <ipython-input-104-5dfb15bf60a1>:6) ]] [Op:__inference_train_function_38546]\n\nFunction call stack:\ntrain_function\n"
     ]
    }
   ],
   "source": [
    "model_cnn = get_model()\n",
    "print(model_cnn.summary())\n",
    "model_cnn.compile(loss=keras.losses.SparseCategoricalCrossentropy(from_logits=False),\n",
    "                  optimizer=keras.optimizers.Adam(),\n",
    "                  metrics=['accuracy'])\n",
    "history = model_cnn.fit(X_train, y_train,\n",
    "                        batch_size=2,\n",
    "                        epochs=2,\n",
    "                        validation_split=0.2, verbose=False)"
   ]
  }
 ],
 "metadata": {
  "kernelspec": {
   "display_name": "Python 3",
   "language": "python",
   "name": "python3"
  },
  "language_info": {
   "codemirror_mode": {
    "name": "ipython",
    "version": 3
   },
   "file_extension": ".py",
   "mimetype": "text/x-python",
   "name": "python",
   "nbconvert_exporter": "python",
   "pygments_lexer": "ipython3",
   "version": "3.8.5"
  }
 },
 "nbformat": 4,
 "nbformat_minor": 4
}
